{
 "cells": [
  {
   "attachments": {},
   "cell_type": "markdown",
   "metadata": {},
   "source": [
    "# Fetching California Agency Data"
   ]
  },
  {
   "cell_type": "code",
   "execution_count": 3,
   "metadata": {},
   "outputs": [],
   "source": [
    "import json\n",
    "import pandas as pd\n",
    "from pandas import DataFrame\n",
    "import requests"
   ]
  },
  {
   "attachments": {},
   "cell_type": "markdown",
   "metadata": {},
   "source": [
    "Read the local json file with the API key."
   ]
  },
  {
   "cell_type": "code",
   "execution_count": 9,
   "metadata": {},
   "outputs": [
    {
     "data": {
      "text/plain": [
       "{'fbikey': 'CtP1keecEgA7wkF9XvjHmYiZuiBz4Mbh3lSF9szL'}"
      ]
     },
     "execution_count": 9,
     "metadata": {},
     "output_type": "execute_result"
    }
   ],
   "source": [
    "with open(\"../setup.json\", \"r\") as setup:\n",
    "    api_key = json.load(setup)"
   ]
  },
  {
   "attachments": {},
   "cell_type": "markdown",
   "metadata": {},
   "source": [
    "Using the [API endpoints](https://cde.ucr.cjis.gov/LATEST/webapp/#/pages/docApi), we will pull down data beginning with the LE agencies in California."
   ]
  },
  {
   "cell_type": "code",
   "execution_count": 12,
   "metadata": {},
   "outputs": [],
   "source": [
    "# Request the agencies and turn this into a dictionary.\n",
    "ca_agencies = requests.get(f\"https://api.usa.gov/crime/fbi/cde/agency/byStateAbbr/CA?API_KEY={api_key['fbikey']}\").json()\n",
    "# Get CA Agencies as DataFrame for use later\n",
    "ca_agencies_df = DataFrame.from_dict(ca_agencies)\n",
    "ca_agencies_df.to_csv(\"../fbi_crime_data/CA/ca_agencies_2020.csv\",\n",
    "                      index=False)"
   ]
  },
  {
   "attachments": {},
   "cell_type": "markdown",
   "metadata": {},
   "source": [
    "Next let's grab some data at the agency level, which will require the ORIs. Let's begin by isolating ORIs."
   ]
  },
  {
   "cell_type": "code",
   "execution_count": 13,
   "metadata": {},
   "outputs": [],
   "source": [
    "oris = [i['ori'] for i in ca_agencies]"
   ]
  },
  {
   "attachments": {},
   "cell_type": "markdown",
   "metadata": {},
   "source": [
    "Pull number of employees for all agencies in CA:"
   ]
  },
  {
   "cell_type": "code",
   "execution_count": 14,
   "metadata": {},
   "outputs": [],
   "source": [
    "def get_employees_by_ori(ori: str, key: str = None, endpoint: str = None,\n",
    "                         verbose: bool = False) -> dict:\n",
    "    if endpoint is None:\n",
    "        endpoint = \"https://api.usa.gov/crime/fbi/cde/pe/agency/\"\n",
    "    query = f\"{endpoint}{ori}/byYearRange?from=2020&to=2020&API_KEY={key}\"\n",
    "    res = requests.get(query) \n",
    "    if res.status_code == 200:\n",
    "        out = DataFrame.from_dict(res.json())\n",
    "        return out\n",
    "    else:\n",
    "        if verbose:\n",
    "            print(f\"For {ori} no record found.\")\n",
    "        pass  \n",
    "\n",
    "employees = [get_employees_by_ori(i, api_key['fbikey']) for i in oris]\n",
    "employees = pd.concat(employees)\n",
    "employees.to_csv(\"../ca_employees_2020.csv\", index=False)   "
   ]
  },
  {
   "attachments": {},
   "cell_type": "markdown",
   "metadata": {},
   "source": [
    "Next, get arrests by ORI:"
   ]
  },
  {
   "cell_type": "code",
   "execution_count": null,
   "metadata": {},
   "outputs": [],
   "source": [
    "def get_arrests_by_ori(ori: str, key: str = None, endpoint: str = None,\n",
    "                         verbose: bool = False) -> dict:\n",
    "    if endpoint is None:\n",
    "        endpoint = \"https://api.usa.gov/crime/fbi/cde/arrest/agency/\"\n",
    "    query = f\"{endpoint}{ori}/all?from=2020&to=2020&API_KEY={key}\"\n",
    "    res = requests.get(query) \n",
    "    if res.status_code == 200:\n",
    "        out = DataFrame.from_dict(res.json()['data'])\n",
    "        out['ori'] = ori\n",
    "        return out\n",
    "    else:\n",
    "        if verbose:\n",
    "            print(f\"For {ori} no record found.\")\n",
    "        pass  \n",
    "\n",
    "arrests = [get_arrests_by_ori(i, api_key['fbikey']) for i in oris]\n",
    "arrests = pd.concat(arrests)\n",
    "arrests.to_csv(\"../ca_arrests_2020.csv\", index=False)   "
   ]
  }
 ],
 "metadata": {
  "kernelspec": {
   "display_name": "Python 3",
   "language": "python",
   "name": "python3"
  },
  "language_info": {
   "codemirror_mode": {
    "name": "ipython",
    "version": 3
   },
   "file_extension": ".py",
   "mimetype": "text/x-python",
   "name": "python",
   "nbconvert_exporter": "python",
   "pygments_lexer": "ipython3",
   "version": "3.11.1"
  },
  "orig_nbformat": 4
 },
 "nbformat": 4,
 "nbformat_minor": 2
}
