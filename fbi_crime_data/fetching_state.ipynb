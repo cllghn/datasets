{
 "cells": [
  {
   "attachments": {},
   "cell_type": "markdown",
   "metadata": {},
   "source": [
    "# Fetching State Data"
   ]
  },
  {
   "cell_type": "code",
   "execution_count": 1,
   "metadata": {},
   "outputs": [],
   "source": [
    "import json\n",
    "import requests\n",
    "import pandas as pd\n",
    "from pandas import DataFrame"
   ]
  },
  {
   "attachments": {},
   "cell_type": "markdown",
   "metadata": {},
   "source": [
    "Read your local credentials for the FBI API:"
   ]
  },
  {
   "cell_type": "code",
   "execution_count": 7,
   "metadata": {},
   "outputs": [],
   "source": [
    "with open(\"../setup.json\", \"r\") as setup:\n",
    "    api_key = json.load(setup)"
   ]
  },
  {
   "attachments": {},
   "cell_type": "markdown",
   "metadata": {},
   "source": [
    "Using the [API endpoints](https://cde.ucr.cjis.gov/LATEST/webapp/#/pages/docApi), we will pull down data."
   ]
  },
  {
   "cell_type": "code",
   "execution_count": 48,
   "metadata": {},
   "outputs": [
    {
     "name": "stdout",
     "output_type": "stream",
     "text": [
      "AS query is problematic\n",
      "GU query is problematic\n",
      "MP query is problematic\n",
      "TT query is problematic\n",
      "VI query is problematic\n"
     ]
    }
   ],
   "source": [
    "# https://www.faa.gov/air_traffic/publications/atpubs/cnt_html/appendix_a.html\n",
    "states = ['AK', 'AK', 'AZ', 'AR', 'AS', 'CA', 'CO', 'CT', 'DE', 'DC', 'FL', 'GA',\n",
    "          'GU', 'HI', 'ID', 'IL', 'IN', 'IA', 'KS', 'KY', 'LA', 'ME', 'MD', 'MA',\n",
    "          'MI', 'MN', 'MS', 'MO', 'MT', 'NE', 'NV', 'NH', 'NJ', 'NM', 'NY', 'NC',\n",
    "          'ND', 'MP', 'OH', 'OK', 'OR', 'PA', 'PR', 'RI', 'SC', 'SD', 'TN', 'TX',\n",
    "          'TT', 'UT', 'VA', 'VI', 'WA', 'WV', 'WI', 'WY']\n",
    "\n",
    "def get_state_estimates(state: str, key: str = None, endpoint: str = None,\n",
    "                         verbose: bool = False, start: str = '2020', \n",
    "                         end: str = '2020') -> dict:\n",
    "    \"\"\"\n",
    "    Provides details regarding reported and converted summary data. Estimated \n",
    "    data is available for All Violent Crimes, Homicide, Rape, Robbery, \n",
    "    Aggravated Assault, All Property Crimes, Arson, Burglary, Larceny-theft, \n",
    "    and Motor Vehicle Theft. Data is available on the national and regional \n",
    "    level along with federal, state, and local agencies.\n",
    "    \"\"\"\n",
    "    if endpoint is None:\n",
    "        endpoint = \"https://api.usa.gov/crime/fbi/cde/estimate/state/\"\n",
    "    query = f\"{endpoint}{state}?from={start}&to={end}&API_KEY={key}\"\n",
    "    if verbose:\n",
    "        print(f\"Requesting: {query}\")\n",
    "    res = requests.get(query)\n",
    "    if res.status_code == 200:\n",
    "        try: \n",
    "            out = pl.from_dict(res.json()[0])\n",
    "            return out\n",
    "        except:\n",
    "            print(f\"{state} query is problematic\")\n",
    "        \n",
    "    else:\n",
    "        if verbose:\n",
    "            print(f\"No record found for: {state}\")\n",
    "        pass  \n",
    "\n",
    "state_estimates = [get_state_estimates(state = i, key = api_key['fbikey']) for i in states]\n"
   ]
  },
  {
   "cell_type": "code",
   "execution_count": 57,
   "metadata": {},
   "outputs": [
    {
     "ename": "ShapeError",
     "evalue": "unable to vstack, dtypes for column \"arson\" don't match: `str` and `f32`",
     "output_type": "error",
     "traceback": [
      "\u001b[1;31m---------------------------------------------------------------------------\u001b[0m",
      "\u001b[1;31mShapeError\u001b[0m                                Traceback (most recent call last)",
      "Cell \u001b[1;32mIn[57], line 1\u001b[0m\n\u001b[1;32m----> 1\u001b[0m pl\u001b[39m.\u001b[39;49mconcat([x \u001b[39mfor\u001b[39;49;00m x \u001b[39min\u001b[39;49;00m state_estimates \u001b[39mif\u001b[39;49;00m x \u001b[39mis\u001b[39;49;00m \u001b[39mnot\u001b[39;49;00m \u001b[39mNone\u001b[39;49;00m], how\u001b[39m=\u001b[39;49m\u001b[39m\"\u001b[39;49m\u001b[39mdiagonal\u001b[39;49m\u001b[39m\"\u001b[39;49m)\n",
      "File \u001b[1;32mc:\\Users\\CCallaghan\\AppData\\Local\\Programs\\Python\\Python311\\Lib\\site-packages\\polars\\functions\\eager.py:233\u001b[0m, in \u001b[0;36mconcat\u001b[1;34m(items, how, rechunk, parallel)\u001b[0m\n\u001b[0;32m    231\u001b[0m     out \u001b[39m=\u001b[39m wrap_df(plr\u001b[39m.\u001b[39mconcat_df(elems))\n\u001b[0;32m    232\u001b[0m \u001b[39melif\u001b[39;00m how \u001b[39m==\u001b[39m \u001b[39m\"\u001b[39m\u001b[39mdiagonal\u001b[39m\u001b[39m\"\u001b[39m:\n\u001b[1;32m--> 233\u001b[0m     out \u001b[39m=\u001b[39m wrap_df(plr\u001b[39m.\u001b[39;49mdiag_concat_df(elems))\n\u001b[0;32m    234\u001b[0m \u001b[39melif\u001b[39;00m how \u001b[39m==\u001b[39m \u001b[39m\"\u001b[39m\u001b[39mhorizontal\u001b[39m\u001b[39m\"\u001b[39m:\n\u001b[0;32m    235\u001b[0m     out \u001b[39m=\u001b[39m wrap_df(plr\u001b[39m.\u001b[39mhor_concat_df(elems))\n",
      "\u001b[1;31mShapeError\u001b[0m: unable to vstack, dtypes for column \"arson\" don't match: `str` and `f32`"
     ]
    }
   ],
   "source": [
    "pl.concat([x for x in state_estimates if x is not None], how=\"diagonal\")\n"
   ]
  }
 ],
 "metadata": {
  "kernelspec": {
   "display_name": "Python 3",
   "language": "python",
   "name": "python3"
  },
  "language_info": {
   "codemirror_mode": {
    "name": "ipython",
    "version": 3
   },
   "file_extension": ".py",
   "mimetype": "text/x-python",
   "name": "python",
   "nbconvert_exporter": "python",
   "pygments_lexer": "ipython3",
   "version": "3.11.1"
  },
  "orig_nbformat": 4
 },
 "nbformat": 4,
 "nbformat_minor": 2
}
