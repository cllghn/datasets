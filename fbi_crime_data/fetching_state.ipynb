{
 "cells": [
  {
   "attachments": {},
   "cell_type": "markdown",
   "metadata": {},
   "source": [
    "# Fetching State Data"
   ]
  },
  {
   "cell_type": "code",
   "execution_count": 63,
   "metadata": {},
   "outputs": [],
   "source": [
    "import json\n",
    "import requests\n",
    "import pandas as pd\n",
    "from pandas import DataFrame"
   ]
  },
  {
   "attachments": {},
   "cell_type": "markdown",
   "metadata": {},
   "source": [
    "Read your local credentials for the FBI API:"
   ]
  },
  {
   "cell_type": "code",
   "execution_count": 7,
   "metadata": {},
   "outputs": [],
   "source": [
    "with open(\"../setup.json\", \"r\") as setup:\n",
    "    api_key = json.load(setup)"
   ]
  },
  {
   "attachments": {},
   "cell_type": "markdown",
   "metadata": {},
   "source": [
    "Using the [API endpoints](https://cde.ucr.cjis.gov/LATEST/webapp/#/pages/docApi), we will pull down data."
   ]
  },
  {
   "cell_type": "code",
   "execution_count": 100,
   "metadata": {},
   "outputs": [],
   "source": [
    "# https://www.faa.gov/air_traffic/publications/atpubs/cnt_html/appendix_a.html\n",
    "states = ['AL', 'AK', 'AZ', 'AR', 'AS', 'CA', 'CO', 'CT', 'DE', 'DC', 'FL', 'GA',\n",
    "          'GU', 'HI', 'ID', 'IL', 'IN', 'IA', 'KS', 'KY', 'LA', 'ME', 'MD', 'MA',\n",
    "          'MI', 'MN', 'MS', 'MO', 'MT', 'NE', 'NV', 'NH', 'NJ', 'NM', 'NY', 'NC',\n",
    "          'ND', 'MP', 'OH', 'OK', 'OR', 'PA', 'PR', 'RI', 'SC', 'SD', 'TN', 'TX',\n",
    "          'TT', 'UT', 'VA', 'VI', 'WA', 'WV', 'WI', 'WY']\n",
    "\n",
    "def get_state_estimates(state: str, key: str = None, endpoint: str = None,\n",
    "                         verbose: bool = False, start: str = '2020', \n",
    "                         end: str = '2020') -> dict:\n",
    "    \"\"\"\n",
    "    Provides details regarding reported and converted summary data. Estimated \n",
    "    data is available for All Violent Crimes, Homicide, Rape, Robbery, \n",
    "    Aggravated Assault, All Property Crimes, Arson, Burglary, Larceny-theft, \n",
    "    and Motor Vehicle Theft. Data is available on the national and regional \n",
    "    level along with federal, state, and local agencies.\n",
    "    \"\"\"\n",
    "    if endpoint is None:\n",
    "        endpoint = \"https://api.usa.gov/crime/fbi/cde/estimate/state/\"\n",
    "    query = f\"{endpoint}{state}?from={start}&to={end}&API_KEY={key}\"\n",
    "    if verbose:\n",
    "        print(f\"Requesting: {query}\")\n",
    "    res = requests.get(query)\n",
    "    if res.status_code == 200:\n",
    "        try: \n",
    "            return res.json()\n",
    "        except:\n",
    "            print(f\"{state} query is problematic\")\n",
    "        \n",
    "    else:\n",
    "        if verbose:\n",
    "            print(f\"No record found for: {state}\")\n",
    "        pass  \n",
    "\n",
    "state_estimates = [DataFrame.from_dict(j) for j in [get_state_estimates(state = i, key = api_key['fbikey']) for i in states] if j]"
   ]
  },
  {
   "attachments": {},
   "cell_type": "markdown",
   "metadata": {},
   "source": [
    "Save it all as a CSV:"
   ]
  },
  {
   "cell_type": "code",
   "execution_count": 101,
   "metadata": {},
   "outputs": [],
   "source": [
    "pd.concat(state_estimates).to_csv('../fbi_crime_data/states/states_estimates_2020.csv',\n",
    "                                  index=False)  "
   ]
  }
 ],
 "metadata": {
  "kernelspec": {
   "display_name": "Python 3",
   "language": "python",
   "name": "python3"
  },
  "language_info": {
   "codemirror_mode": {
    "name": "ipython",
    "version": 3
   },
   "file_extension": ".py",
   "mimetype": "text/x-python",
   "name": "python",
   "nbconvert_exporter": "python",
   "pygments_lexer": "ipython3",
   "version": "3.11.1"
  },
  "orig_nbformat": 4
 },
 "nbformat": 4,
 "nbformat_minor": 2
}
