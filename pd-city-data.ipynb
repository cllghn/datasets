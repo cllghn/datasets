{
 "cells": [
  {
   "attachments": {},
   "cell_type": "markdown",
   "metadata": {},
   "source": [
    "# Overview of Cities and PD Crime Data Portals.\n",
    "\n",
    "| Status | City | State | LEA | Population | GIS Crime Data | Notes |\n",
    "|--------|------|-------|-----|------------|----------------|-------|\n",
    "| 😔 | Albuquerque | NM | [Albuquerque PD](https://www.cabq.gov/police) | 564,559 | Through [crimemapping.com](https://www.crimemapping.com/map/location/Albuquerque,%20NM,%20USA?id=dHA9MCNsb2M9MTg3NDY5NCNsbmc9NTQjcGw9Mjc2NDkxI2xicz0xNDo1NjQ4NzY0I2xuPUVhZ2xlTG9jYXRvcg==#). | Data can be viewed as a tabular report with location. The location would have to be geocoded. The biggest drawback are the (1) lack of an API and (2) most importantly the data only goes back to November 2022. |\n",
    "| 😔 | Las Cruces | NM | [Las Cruces PD](https://www.lascruces.gov/2589/Police) | 111,385 | None | Report to UCR. | \n",
    "| 😔 | Rio Rancho | NM | [Rio Rancho PD](https://rrnm.gov/17/Police) | 104,026 | They got a [map through ESRI](https://experience.arcgis.com/experience/04301dc448024daf89a1703c048d7c57/)! However, no point data populates. | The map may not be working, but infrastructure could exist 🤞. |\n",
    "| 😔 | Santa Fe | NM | [Santa Fe PD](https://santafenm.gov/police) | 87,505 | None | Report to UCR. |\n",
    "| 😔 | Roswell | NM | [Roswell PD](https://roswell-nm.gov/1262/Police-Department) | 48,422 | None | None | \n",
    "| 😔 | Philadelphia | PA | [Philadelphia PD](https://www.phillypolice.com/) | 1,587,829 | Made available through OpenDataPhilly, check out [Crime Incidents](https://opendataphilly.org/datasets/crime-incidents/)  | In CSV and SHP format for 2006 to 2023. |\n",
    "| 😔 | Pittsburgh | PA | please | 302,571 | add | add |\n",
    "| 😔 | Allentown | PA | please | 122,827 | add | add |\n",
    "| 😔 | Reading | PA | please | 95,112 | add | add |\n",
    "| 😔 | Erie | PA | please | 94,831 | add | add |\n",
    "| 😔 | Bridgeport | CT | please | 148,654  | add | add |\n",
    "| 😔 | Stamford | CT | please | 135,470 | add | add | \n",
    "| 😔 | New Haven | CT | please | 134,023 | add | add |\n",
    "| 😔 | Hartford | CT | please | 121,054 | add | add |\n",
    "| 😔 | Waterbury | CT | please | 114,403 | add | add |"
   ]
  }
 ],
 "metadata": {
  "language_info": {
   "name": "python"
  },
  "orig_nbformat": 4
 },
 "nbformat": 4,
 "nbformat_minor": 2
}
