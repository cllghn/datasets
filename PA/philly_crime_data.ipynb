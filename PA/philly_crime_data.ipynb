{
 "cells": [
  {
   "attachments": {},
   "cell_type": "markdown",
   "metadata": {},
   "source": [
    "# Pulling Crime Data for Philly\n",
    "\n",
    "The City of Philadelphia makes crime incidents data available through a couple locations. Simple *.CSV and *.SHP files can be downloaded by year from the [OpenDataPhilly site](https://opendataphilly.org/datasets/crime-incidents/). Instead of doing any of this by hand, here I use the provided API to programmatically pull data from 2015 to 2020. "
   ]
  },
  {
   "attachments": {},
   "cell_type": "markdown",
   "metadata": {},
   "source": [
    "## About the Data\n",
    "\n",
    "The files downloaded include Part I and Part II crimes from the Philadelphia Police Department. Part I crimes include violent offenses such as aggravated assault, rape, arson, among others. Part II crimes include simple assault, prostitution, gambling, fraud, and other non-violent offenses."
   ]
  },
  {
   "attachments": {},
   "cell_type": "markdown",
   "metadata": {},
   "source": [
    "## Pull the Data\n",
    "\n",
    "The `incidents_part1_part2` dataset published to carto, which allows the user to query the data using SQL through HTTP via Carto's SQL API. To do so, pass the query using the `q` parameter:\n",
    "\n",
    "```\n",
    "https://phl.carto.com/api/v2/sql?q=SELECT * FROM incidents_part1_part2\n",
    "```\n",
    "\n",
    "Documentation can be found [here](https://cityofphiladelphia.github.io/carto-api-explorer/#incidents_part1_part2)."
   ]
  },
  {
   "attachments": {},
   "cell_type": "markdown",
   "metadata": {},
   "source": [
    "Let's pull the data using this endpoint and dictionary comprehension to map a function over a range of values."
   ]
  },
  {
   "cell_type": "code",
   "execution_count": 25,
   "metadata": {},
   "outputs": [
    {
     "name": "stdout",
     "output_type": "stream",
     "text": [
      "Requesting data for https://phl.carto.com/api/v2/sql?q=SELECT%20*%20FROM%20incidents_part1_part2%20WHERE%20dispatch_date%20LIKE%20%272015-%25%27\n",
      "Requesting data for https://phl.carto.com/api/v2/sql?q=SELECT%20*%20FROM%20incidents_part1_part2%20WHERE%20dispatch_date%20LIKE%20%272016-%25%27\n",
      "Requesting data for https://phl.carto.com/api/v2/sql?q=SELECT%20*%20FROM%20incidents_part1_part2%20WHERE%20dispatch_date%20LIKE%20%272017-%25%27\n",
      "Requesting data for https://phl.carto.com/api/v2/sql?q=SELECT%20*%20FROM%20incidents_part1_part2%20WHERE%20dispatch_date%20LIKE%20%272018-%25%27\n",
      "Requesting data for https://phl.carto.com/api/v2/sql?q=SELECT%20*%20FROM%20incidents_part1_part2%20WHERE%20dispatch_date%20LIKE%20%272019-%25%27\n",
      "Requesting data for https://phl.carto.com/api/v2/sql?q=SELECT%20*%20FROM%20incidents_part1_part2%20WHERE%20dispatch_date%20LIKE%20%272020-%25%27\n"
     ]
    }
   ],
   "source": [
    "# Load required libraries:\n",
    "import requests\n",
    "import pandas as pd\n",
    "from pandas import DataFrame\n",
    "import os\n",
    "\n",
    "# Declare a list of years:\n",
    "wanted_years = list(range(2015, 2021))\n",
    "\n",
    "# Declare an endpoint:\n",
    "wanted_url = \"https://phl.carto.com/api/v2/sql?q=SELECT * FROM incidents_part1_part2\"\n",
    "\n",
    "# Declare a function to pull data from endpoint based on a year:\n",
    "def pull_by_year(url: str, year: int, verbose: bool = True) -> pd.DataFrame:\n",
    "    url = url.replace(\" \", \"%20\") +  f\"%20WHERE%20dispatch_date%20LIKE%20%27{str(year)}-%25%27\"\n",
    "    if verbose:\n",
    "        print(f\"Requesting data for {url}\")\n",
    "    res = requests.get(url).json()\n",
    "    out = DataFrame.from_dict(res['rows'])\n",
    "    return(out)\n",
    "\n",
    "# Pull five years worth of data:\n",
    "data = {str(x): pull_by_year(url=wanted_url, year=x) for x in wanted_years}"
   ]
  },
  {
   "attachments": {},
   "cell_type": "markdown",
   "metadata": {},
   "source": [
    "Store them:"
   ]
  },
  {
   "cell_type": "code",
   "execution_count": 33,
   "metadata": {},
   "outputs": [],
   "source": [
    "def write_csv_from_dict(folder: str, input_dict: dict, suffix: str) -> None:\n",
    "    for k,v in input_dict.items():\n",
    "        file_path = os.path.join(folder, f'{k}_{suffix}.csv')\n",
    "        v.to_csv(file_path, encoding = 'utf-8', index = False)\n",
    "        \n",
    "write_csv_from_dict(folder= \"PA/Philly/\", input_dict=data,\n",
    "                    suffix=\"_philly_incidents_part1_part2\")"
   ]
  },
  {
   "attachments": {},
   "cell_type": "markdown",
   "metadata": {},
   "source": [
    "## Take a Quick Look"
   ]
  }
 ],
 "metadata": {
  "kernelspec": {
   "display_name": "Python 3",
   "language": "python",
   "name": "python3"
  },
  "language_info": {
   "codemirror_mode": {
    "name": "ipython",
    "version": 3
   },
   "file_extension": ".py",
   "mimetype": "text/x-python",
   "name": "python",
   "nbconvert_exporter": "python",
   "pygments_lexer": "ipython3",
   "version": "3.11.1"
  },
  "orig_nbformat": 4
 },
 "nbformat": 4,
 "nbformat_minor": 2
}
