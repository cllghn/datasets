{
 "cells": [
  {
   "attachments": {},
   "cell_type": "markdown",
   "metadata": {},
   "source": [
    "# Pulling Crime Data for Hartford\n",
    "\n",
    "In May of 2021 the City of Hartford Police Department updated their Computer Aided Dispatch(CAD) system and in the process made their historical data available via the [City of Hartford API, powered by Socrata](https://dev.socrata.com/foundry/data.hartford.gov/889t-nwfu). This historic dataset reflects reported incidents of crime (with the exception of sexual assaults, which are excluded by statute) that occurred in the City of Hartford from January 1, 2005 to May 18, 2021. These incidents are based on crimes verified by the Hartford Police Department's Crime Analysis Division."
   ]
  },
  {
   "attachments": {},
   "cell_type": "markdown",
   "metadata": {},
   "source": [
    "## About the Data\n",
    "\n",
    "This historic dataset reflects reported incidents of crime (with the exception of sexual assaults, which are excluded by statute) that occurred in the City of Hartford from January 1, 2005 to May 18, 2021. These incidents are based on crimes verified by the Hartford Police Department's Crime Analysis Division.\n",
    "\n",
    "In total the data set contain 708,985 observations."
   ]
  },
  {
   "attachments": {},
   "cell_type": "markdown",
   "metadata": {},
   "source": [
    "## Pull in the Data\n",
    "\n",
    "The `889t-nwfu` dataset published to data.hartford.gov. All communication with the API is done through HTTPS, and errors are communicated through HTTP response codes. TIf you just want to grab the API endpoint and go, you'll find it below:\n",
    "\n",
    "```\n",
    "https://data.hartford.gov/resource/889t-nwfu.json \n",
    "```\n",
    "\n",
    "Documentation for working with the SODA API can be found [here](https://dev.socrata.com/consumers/getting-started.html).\n",
    "\n",
    "For filtering, you can pass a range of parameters via the URL:\n",
    "\n",
    "```\n",
    "https://data.hartford.gov/resource/889t-nwfu.json?case_number=4058052\n",
    "```\n",
    "\n",
    "Let's pull the data using this endpoint, some added parameters, and dictionary comprehension to map a function over a range of values."
   ]
  },
  {
   "cell_type": "code",
   "execution_count": 1,
   "metadata": {},
   "outputs": [],
   "source": [
    "# Load required libraries:\n",
    "import requests\n",
    "import pandas as pd\n",
    "from pandas import DataFrame\n",
    "import os\n",
    "\n",
    "# Declare an endpoint:\n",
    "wanted_url = \"https://data.hartford.gov/resource/889t-nwfu.json?$where=date%20between%20%272015-01-01%27%20and%20%272020-12-31%27%20limit%20800000\"\n",
    "\n",
    "# Pull and transform the JSON into \n",
    "hartford = requests.get(wanted_url).json()"
   ]
  },
  {
   "attachments": {},
   "cell_type": "markdown",
   "metadata": {},
   "source": [
    "We have to extract the latitude and longitude from a nested dictionary:"
   ]
  },
  {
   "cell_type": "code",
   "execution_count": 2,
   "metadata": {},
   "outputs": [],
   "source": [
    "def parse_entries(nested_dict: dict, nested_key: str) -> pd.DataFrame:\n",
    "    out = {}\n",
    "    out = {key: value for key, value in nested_dict.items() if key != nested_key}\n",
    "    out['latitude'] = nested_dict['geom']['latitude']\n",
    "    out['longitude'] = nested_dict['geom']['longitude']\n",
    "    return(out)\n",
    "\n",
    "hartford_clean = [parse_entries(x, 'geom') for x in hartford]\n",
    "hartford_df = DataFrame.from_dict(hartford_clean)"
   ]
  },
  {
   "attachments": {},
   "cell_type": "markdown",
   "metadata": {},
   "source": [
    "Group and split into list of yearly dataframes:"
   ]
  },
  {
   "cell_type": "code",
   "execution_count": 3,
   "metadata": {},
   "outputs": [],
   "source": [
    "hartford_df['date_dt'] = pd.to_datetime(hartford_df['date'])\n",
    "hartford_df['year'] = hartford_df['date_dt'].dt.year\n",
    "grouped = hartford_df.groupby('year')\n",
    "dfs_by_year = [group for group in grouped]"
   ]
  },
  {
   "attachments": {},
   "cell_type": "markdown",
   "metadata": {},
   "source": [
    "Access and store:"
   ]
  },
  {
   "cell_type": "code",
   "execution_count": 4,
   "metadata": {},
   "outputs": [],
   "source": [
    "for year, df in dfs_by_year:\n",
    "    file_path = os.path.join('Hartford', f'{year}_889t-nwfu.csv')\n",
    "    df.to_csv(file_path, encoding = 'utf-8', index = False)"
   ]
  }
 ],
 "metadata": {
  "kernelspec": {
   "display_name": "Python 3",
   "language": "python",
   "name": "python3"
  },
  "language_info": {
   "codemirror_mode": {
    "name": "ipython",
    "version": 3
   },
   "file_extension": ".py",
   "mimetype": "text/x-python",
   "name": "python",
   "nbconvert_exporter": "python",
   "pygments_lexer": "ipython3",
   "version": "3.11.1"
  },
  "orig_nbformat": 4
 },
 "nbformat": 4,
 "nbformat_minor": 2
}
